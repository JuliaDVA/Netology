{
 "cells": [
  {
   "cell_type": "markdown",
   "metadata": {},
   "source": [
    "Домашнее задание к лекции \"Основы Python\""
   ]
  },
  {
   "cell_type": "markdown",
   "metadata": {},
   "source": [
    "Задание 1.\n",
    "\n",
    "Даны 2 переменных, в которых хранятся строки произвольной длины: phrase_1 и phrase_2.\n",
    "Напишите код, который проверяет какая из этих строк длиннее."
   ]
  },
  {
   "cell_type": "code",
   "execution_count": 2,
   "metadata": {},
   "outputs": [
    {
     "name": "stdout",
     "output_type": "stream",
     "text": [
      "ghjnkm\n",
      "gvhbjnm,\n",
      "Фраза 2 длиннее фразы 1\n"
     ]
    }
   ],
   "source": [
    "phrase_1 = input()\n",
    "phrase_2 = input()\n",
    "\n",
    "if len(phrase_1) > len(phrase_2):\n",
    "    print(\"Фраза 1 длиннее фразы 2\")\n",
    "elif len(phrase_2) > len(phrase_1):\n",
    "    print(\"Фраза 2 длиннее фразы 1\")\n",
    "else:\n",
    "    print(\"Фразы равной длины\")\n",
    "    "
   ]
  },
  {
   "cell_type": "markdown",
   "metadata": {},
   "source": [
    "Задание 2.\n",
    "\n",
    "Дана переменная, в которой хранится четырехзначное число (год). Необходимо написать программу, которая выведет, является ли данный год високосным или обычным."
   ]
  },
  {
   "cell_type": "code",
   "execution_count": 4,
   "metadata": {},
   "outputs": [
    {
     "name": "stdout",
     "output_type": "stream",
     "text": [
      "2020\n",
      "Високосный год\n"
     ]
    }
   ],
   "source": [
    "year = int(input()) \n",
    "\n",
    "if (year % 4) == 0:\n",
    "    if (year % 100) == 0:  \n",
    "        if (year % 400) == 0:  \n",
    "            print(\"Високосный год\")  \n",
    "        else:  \n",
    "            print(\"Обычный год\")  \n",
    "    else:  \n",
    "        print(\"Високосный год\")  \n",
    "else:  \n",
    "    print(\"Обычный год\")  "
   ]
  },
  {
   "cell_type": "markdown",
   "metadata": {},
   "source": [
    "\n",
    "Задание 3.\n",
    "\n",
    "Необходимо написать программу, которая будет запрашивать у пользователя месяц и дату рождения и выводить соответствующий знак зодиака."
   ]
  },
  {
   "cell_type": "code",
   "execution_count": 6,
   "metadata": {},
   "outputs": [
    {
     "name": "stdout",
     "output_type": "stream",
     "text": [
      "Введите день 30\n",
      "Введите месяц ИЮЛь\n",
      "Ваш знак зодиака: Лев\n"
     ]
    }
   ],
   "source": [
    "day = int(input('Введите день '))\n",
    "month = input('Введите месяц ').lower()\n",
    "\n",
    "if month == 'январь':\n",
    "    astro_sign = 'Козерог' if (day < 20) else 'Водолей'\n",
    "elif month == 'февраль':\n",
    "    astro_sign = 'Водолей' if (day < 19) else 'Рыбы'\n",
    "elif month == 'март':\n",
    "    astro_sign = 'Рыбы' if (day < 21) else 'Овен'\n",
    "elif month == 'апрель':\n",
    "    astro_sign = 'Овен' if (day < 20) else 'Телец'\n",
    "elif month == 'май':\n",
    "    astro_sign = 'Телец' if (day < 21) else 'Близнецы'\n",
    "elif month == 'июнь':\n",
    "    astro_sign = 'Близнецы' if (day < 21) else 'Рак'\n",
    "elif month == 'июль':\n",
    "    astro_sign = 'Рак' if (day < 23) else 'Лев'\n",
    "elif month == 'август':\n",
    "    astro_sign = 'Лев' if (day < 23) else 'Дева'\n",
    "elif month == 'сентябрь':\n",
    "    astro_sign = 'Дева' if (day < 23) else 'Весы'\n",
    "elif month == 'октябрь':\n",
    "    astro_sign = 'Весы' if (day < 23) else 'Скорпион'\n",
    "elif month == 'ноябрь':\n",
    "    astro_sign = 'Скорпион' if (day < 22) else 'Стрелец'\n",
    "elif month == 'декабрь':\n",
    "    astro_sign = 'Стрелец' if (day < 22) else 'Козерог'\n",
    "print(\"Ваш знак зодиака: {}\".format(astro_sign))\n"
   ]
  },
  {
   "cell_type": "markdown",
   "metadata": {},
   "source": [
    "Задание 4.\n",
    "\n",
    "Вам нужно написать программу для подбора упаковок по размерам товара. Размеры (ширина, длина, высота) хранятся в переменных (в сантиметрах):\n",
    "\n",
    "Используйте следующие правила:\n",
    "\n",
    "если каждое из трех измерений менее 15 сантиметров, то выведите на экран \"Коробка №1\";\n",
    "если хотя бы одно из измерений больше 15 сантиметров, но менее 50 сантиметров, то выводите \"Коробка №2\";\n",
    "если длина товара больше 2 метров, то выводите \"Упаковка для лыж\";\n",
    "во всех остальных случаях выводите \"Стандартная коробка №3\"."
   ]
  },
  {
   "cell_type": "code",
   "execution_count": 35,
   "metadata": {},
   "outputs": [
    {
     "name": "stdout",
     "output_type": "stream",
     "text": [
      "Ширина (см) 34\n",
      "Длина (см) 50\n",
      "Высота (см) 60\n",
      "Коробка №2\n"
     ]
    }
   ],
   "source": [
    "width = float(input('Ширина (см) '))\n",
    "length = float(input('Длина (см) '))\n",
    "height = float(input('Высота (см) '))\n",
    "\n",
    "if width < 15 and length < 15 and height < 15:\n",
    "    print(\"Коробка №1\")\n",
    "elif length > 200:\n",
    "    print(\"Упаковка для лыж\")\n",
    "elif 15 < width < 50 or 15 < length < 50 or 15 < height < 50:\n",
    "    print(\"Коробка №2\")\n",
    "else:\n",
    "    print(\"Стандартная коробка №3\")\n"
   ]
  },
  {
   "cell_type": "markdown",
   "metadata": {},
   "source": [
    "\n",
    "Задание 5 (необязательное)\n",
    "\n",
    "Дана переменная, в которой хранится шестизначное число (номер проездного билета). Напишите программу, которая будет определять, является ли данный билет \"счастливым\". Билет считается счастливым, если сумма первых трех цифр совпадает с суммой последних трех цифр номера."
   ]
  },
  {
   "cell_type": "code",
   "execution_count": 37,
   "metadata": {},
   "outputs": [
    {
     "name": "stdout",
     "output_type": "stream",
     "text": [
      "123006\n",
      "lucky ticket!\n"
     ]
    }
   ],
   "source": [
    "ticket = input()\n",
    "\n",
    "number1 = ticket[:3]\n",
    "number2 = ticket[3:]\n",
    "sum1 = 0\n",
    "sum2 = 0\n",
    "\n",
    "for digit in number1:\n",
    "    sum1 += int(digit)\n",
    "\n",
    "for digit in number2:\n",
    "    sum2 += int(digit)\n",
    "    \n",
    "if sum1 == sum2:\n",
    "    print('lucky ticket!')\n",
    "else:\n",
    "    print('out of luck')"
   ]
  },
  {
   "cell_type": "markdown",
   "metadata": {},
   "source": [
    "Задание 6 (необязательное)\n",
    "\n",
    "Напишите программу, которая сможет вычислять площади трех фигур (круг, треугольник и прямоугольник). Тип фигуры запрашиваем через пользовательский ввод, после чего делаем запрос характеристик фигуры:\n",
    "\n",
    "если пользователь выбрал круг, запрашиваем его радиус,\n",
    "если треугольник – длины трех его сторон;\n",
    "если прямоугольник – длины двух его сторон."
   ]
  },
  {
   "cell_type": "code",
   "execution_count": 38,
   "metadata": {},
   "outputs": [
    {
     "name": "stdout",
     "output_type": "stream",
     "text": [
      "Выберите фигуру: круг, треугольник или прямоугольник: Круг\n",
      "Радиус в см: 12\n",
      "Площадь фигуры \"Круг\" = 452.16\n"
     ]
    }
   ],
   "source": [
    "shape = input('Выберите фигуру: круг, треугольник или прямоугольник: ')\n",
    "S = 0\n",
    "\n",
    "if shape.lower() == 'круг':\n",
    "    radius = float(input('Радиус в см: '))\n",
    "    S = 3.14*radius**2\n",
    "elif shape.lower() == 'треугольник':\n",
    "    side1 = float(input('Длина стороны: '))\n",
    "    side2 = float(input('Длина стороны: '))\n",
    "    side3 = float(input('Длина стороны: '))\n",
    "    S = (side1 + side2 + side3)/2\n",
    "elif shape.lower() == 'прямоугольник':\n",
    "    side1 = float(input('Длина стороны: '))\n",
    "    side2 = float(input('Длина стороны: '))\n",
    "    S = side1 * side2\n",
    "\n",
    "print('Площадь фигуры \"{}\" = {}'.format(shape, S))"
   ]
  }
 ],
 "metadata": {
  "kernelspec": {
   "display_name": "Python 3",
   "language": "python",
   "name": "python3"
  },
  "language_info": {
   "codemirror_mode": {
    "name": "ipython",
    "version": 3
   },
   "file_extension": ".py",
   "mimetype": "text/x-python",
   "name": "python",
   "nbconvert_exporter": "python",
   "pygments_lexer": "ipython3",
   "version": "3.8.5"
  }
 },
 "nbformat": 4,
 "nbformat_minor": 4
}
