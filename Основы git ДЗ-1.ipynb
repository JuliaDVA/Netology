{
 "cells": [
  {
   "attachments": {},
   "cell_type": "markdown",
   "metadata": {},
   "source": [
    "https://pastenow.ru/6689dc4e0d9a902c034d8fe1b69c3361 - ноутбук запущен :D\n",
    "\n",
    "https://pastenow.ru/d9e72ad8524511d96351193badd26c43 - основы git\n",
    "\n",
    "https://pastenow.ru/2af9355f9eae1257162ec058b369a024 - удаленные репозитории\n",
    "\n",
    "git@github.com:JuliaDVA/Netology.git - мой репозиторий для ДЗ"
   ]
  }
 ],
 "metadata": {
  "kernelspec": {
   "display_name": "Python 3",
   "language": "python",
   "name": "python3"
  },
  "language_info": {
   "codemirror_mode": {
    "name": "ipython",
    "version": 3
   },
   "file_extension": ".py",
   "mimetype": "text/x-python",
   "name": "python",
   "nbconvert_exporter": "python",
   "pygments_lexer": "ipython3",
   "version": "3.8.5"
  }
 },
 "nbformat": 4,
 "nbformat_minor": 4
}
